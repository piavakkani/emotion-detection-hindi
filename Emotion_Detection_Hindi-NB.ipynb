{
 "cells": [
  {
   "cell_type": "code",
   "execution_count": 1,
   "metadata": {},
   "outputs": [],
   "source": [
    "# load packages\n",
    "import os\n",
    "import pandas as pd\n",
    "import numpy as np\n",
    "import seaborn as sns"
   ]
  },
  {
   "cell_type": "code",
   "execution_count": 2,
   "metadata": {},
   "outputs": [],
   "source": [
    "# load data visualization packages\n",
    "import matplotlib.pyplot as plt\n",
    "import seaborn as sns\n",
    "\n",
    "#text cleaning\n",
    "import neattext.functions as nfx"
   ]
  },
  {
   "cell_type": "code",
   "execution_count": 3,
   "metadata": {},
   "outputs": [],
   "source": [
    "df = pd.read_excel(\"E:\\\\Emotion-Detection-Dataset\\\\dataset.xlsx\")"
   ]
  },
  {
   "cell_type": "code",
   "execution_count": 4,
   "metadata": {},
   "outputs": [
    {
     "data": {
      "text/html": [
       "<div>\n",
       "<style scoped>\n",
       "    .dataframe tbody tr th:only-of-type {\n",
       "        vertical-align: middle;\n",
       "    }\n",
       "\n",
       "    .dataframe tbody tr th {\n",
       "        vertical-align: top;\n",
       "    }\n",
       "\n",
       "    .dataframe thead th {\n",
       "        text-align: right;\n",
       "    }\n",
       "</style>\n",
       "<table border=\"1\" class=\"dataframe\">\n",
       "  <thead>\n",
       "    <tr style=\"text-align: right;\">\n",
       "      <th></th>\n",
       "      <th>Text</th>\n",
       "      <th>Emotion</th>\n",
       "    </tr>\n",
       "  </thead>\n",
       "  <tbody>\n",
       "    <tr>\n",
       "      <th>0</th>\n",
       "      <td>मेरे ट्रैन का बुकिंग फेल हो रहा है बार बार</td>\n",
       "      <td>angry</td>\n",
       "    </tr>\n",
       "    <tr>\n",
       "      <th>1</th>\n",
       "      <td>मेरे फ्लाइट  का बुकिंग फेल हो रहा है बार बार</td>\n",
       "      <td>angry</td>\n",
       "    </tr>\n",
       "    <tr>\n",
       "      <th>2</th>\n",
       "      <td>बहुत ही घटिया एप्प है तुम्हारा</td>\n",
       "      <td>angry</td>\n",
       "    </tr>\n",
       "    <tr>\n",
       "      <th>3</th>\n",
       "      <td>मेरी कैब क्यों नहीं आ रही है</td>\n",
       "      <td>angry</td>\n",
       "    </tr>\n",
       "    <tr>\n",
       "      <th>4</th>\n",
       "      <td>बहुत ही बकवास वेबसाइट है तुम्हारा भाई</td>\n",
       "      <td>angry</td>\n",
       "    </tr>\n",
       "  </tbody>\n",
       "</table>\n",
       "</div>"
      ],
      "text/plain": [
       "                                            Text Emotion\n",
       "0    मेरे ट्रैन का बुकिंग फेल हो रहा है बार बार    angry\n",
       "1  मेरे फ्लाइट  का बुकिंग फेल हो रहा है बार बार    angry\n",
       "2                बहुत ही घटिया एप्प है तुम्हारा    angry\n",
       "3                  मेरी कैब क्यों नहीं आ रही है    angry\n",
       "4         बहुत ही बकवास वेबसाइट है तुम्हारा भाई    angry"
      ]
     },
     "execution_count": 4,
     "metadata": {},
     "output_type": "execute_result"
    }
   ],
   "source": [
    "# preview data\n",
    "df.head()"
   ]
  },
  {
   "cell_type": "code",
   "execution_count": 5,
   "metadata": {},
   "outputs": [
    {
     "data": {
      "text/plain": [
       "(513, 2)"
      ]
     },
     "execution_count": 5,
     "metadata": {},
     "output_type": "execute_result"
    }
   ],
   "source": [
    "# shape\n",
    "df.shape"
   ]
  },
  {
   "cell_type": "code",
   "execution_count": 6,
   "metadata": {},
   "outputs": [
    {
     "data": {
      "text/html": [
       "<div>\n",
       "<style scoped>\n",
       "    .dataframe tbody tr th:only-of-type {\n",
       "        vertical-align: middle;\n",
       "    }\n",
       "\n",
       "    .dataframe tbody tr th {\n",
       "        vertical-align: top;\n",
       "    }\n",
       "\n",
       "    .dataframe thead th {\n",
       "        text-align: right;\n",
       "    }\n",
       "</style>\n",
       "<table border=\"1\" class=\"dataframe\">\n",
       "  <thead>\n",
       "    <tr style=\"text-align: right;\">\n",
       "      <th></th>\n",
       "      <th>Text</th>\n",
       "      <th>Emotion</th>\n",
       "    </tr>\n",
       "  </thead>\n",
       "  <tbody>\n",
       "    <tr>\n",
       "      <th>508</th>\n",
       "      <td>शिट यार फिर से चैनल्स बंद हो गए</td>\n",
       "      <td>sad</td>\n",
       "    </tr>\n",
       "    <tr>\n",
       "      <th>509</th>\n",
       "      <td>क्या यार अब तक पैसा नहीं आया</td>\n",
       "      <td>sad</td>\n",
       "    </tr>\n",
       "    <tr>\n",
       "      <th>510</th>\n",
       "      <td>यार कब होगा रिचार्ज मेरे अकाउंट का</td>\n",
       "      <td>sad</td>\n",
       "    </tr>\n",
       "    <tr>\n",
       "      <th>511</th>\n",
       "      <td>यार मै बहुत परेशान हो गया हु</td>\n",
       "      <td>sad</td>\n",
       "    </tr>\n",
       "    <tr>\n",
       "      <th>512</th>\n",
       "      <td>रीस्टार्ट करने पे भी नहीं हो रहा</td>\n",
       "      <td>sad</td>\n",
       "    </tr>\n",
       "  </tbody>\n",
       "</table>\n",
       "</div>"
      ],
      "text/plain": [
       "                                    Text Emotion\n",
       "508     शिट यार फिर से चैनल्स बंद हो गए      sad\n",
       "509        क्या यार अब तक पैसा नहीं आया      sad\n",
       "510  यार कब होगा रिचार्ज मेरे अकाउंट का      sad\n",
       "511        यार मै बहुत परेशान हो गया हु      sad\n",
       "512    रीस्टार्ट करने पे भी नहीं हो रहा      sad"
      ]
     },
     "execution_count": 6,
     "metadata": {},
     "output_type": "execute_result"
    }
   ],
   "source": [
    "df.tail()"
   ]
  },
  {
   "cell_type": "code",
   "execution_count": 7,
   "metadata": {},
   "outputs": [
    {
     "data": {
      "text/plain": [
       "Text       object\n",
       "Emotion    object\n",
       "dtype: object"
      ]
     },
     "execution_count": 7,
     "metadata": {},
     "output_type": "execute_result"
    }
   ],
   "source": [
    "# datatypes\n",
    "df.dtypes"
   ]
  },
  {
   "cell_type": "code",
   "execution_count": 8,
   "metadata": {},
   "outputs": [
    {
     "data": {
      "text/plain": [
       "Text       0\n",
       "Emotion    0\n",
       "dtype: int64"
      ]
     },
     "execution_count": 8,
     "metadata": {},
     "output_type": "execute_result"
    }
   ],
   "source": [
    "# check for missing values\n",
    "df.isnull().sum()"
   ]
  },
  {
   "cell_type": "code",
   "execution_count": 9,
   "metadata": {},
   "outputs": [
    {
     "data": {
      "text/plain": [
       "happy      151\n",
       "angry      130\n",
       "neutral    128\n",
       "sad        104\n",
       "Name: Emotion, dtype: int64"
      ]
     },
     "execution_count": 9,
     "metadata": {},
     "output_type": "execute_result"
    }
   ],
   "source": [
    "# value counts of emotions\n",
    "df['Emotion'].value_counts()"
   ]
  },
  {
   "cell_type": "code",
   "execution_count": 10,
   "metadata": {
    "scrolled": true
   },
   "outputs": [
    {
     "data": {
      "text/plain": [
       "<matplotlib.axes._subplots.AxesSubplot at 0x2bcf10fc100>"
      ]
     },
     "execution_count": 10,
     "metadata": {},
     "output_type": "execute_result"
    },
    {
     "data": {
      "image/png": "[encoded data removed]",
      "text/plain": [
       "<Figure size 432x288 with 1 Axes>"
      ]
     },
     "metadata": {
      "needs_background": "light"
     },
     "output_type": "display_data"
    }
   ],
   "source": [
    "# plotting value counts of emotions\n",
    "df['Emotion'].value_counts().plot(kind='bar')"
   ]
  },
  {
   "cell_type": "code",
   "execution_count": 11,
   "metadata": {},
   "outputs": [
    {
     "data": {
      "text/plain": [
       "<matplotlib.axes._subplots.AxesSubplot at 0x2bcf31a74f0>"
      ]
     },
     "execution_count": 11,
     "metadata": {},
     "output_type": "execute_result"
    },
    {
     "data": {
      "image/png": "[encoded data removed]",
      "text/plain": [
       "<Figure size 432x288 with 1 Axes>"
      ]
     },
     "metadata": {
      "needs_background": "light"
     },
     "output_type": "display_data"
    }
   ],
   "source": [
    "# using seaborn to plot\n",
    "sns.countplot(x='Emotion',data=df)"
   ]
  },
  {
   "cell_type": "markdown",
   "metadata": {},
   "source": [
    "# Exploratory Data Analysis (EDA)\n",
    "+ Text Cleaning\n",
    "+ Keyword Extraction (keywords for each emotion, word cloud)"
   ]
  },
  {
   "cell_type": "markdown",
   "metadata": {},
   "source": [
    "\n"
   ]
  },
  {
   "cell_type": "code",
   "execution_count": 12,
   "metadata": {},
   "outputs": [],
   "source": [
    "#keyword extraction\n",
    "from collections import Counter"
   ]
  },
  {
   "cell_type": "code",
   "execution_count": 13,
   "metadata": {},
   "outputs": [],
   "source": [
    "def extract_keywords(text,num=50):\n",
    "    tokens = [ token for token in text.split()]\n",
    "    most_common_tokens = Counter(tokens).most_common(num)\n",
    "    return dict(most_common_tokens)"
   ]
  },
  {
   "cell_type": "code",
   "execution_count": 14,
   "metadata": {},
   "outputs": [
    {
     "data": {
      "text/plain": [
       "['angry', 'happy', 'neutral', 'sad']"
      ]
     },
     "execution_count": 14,
     "metadata": {},
     "output_type": "execute_result"
    }
   ],
   "source": [
    "emotion_list = df['Emotion'].unique().tolist()\n",
    "emotion_list"
   ]
  },
  {
   "cell_type": "code",
   "execution_count": 15,
   "metadata": {},
   "outputs": [],
   "source": [
    "df['Text'] = df['Text'].apply(nfx.remove_punctuations)"
   ]
  },
  {
   "cell_type": "code",
   "execution_count": 16,
   "metadata": {},
   "outputs": [],
   "source": [
    "happy_list = df[df['Emotion'] == 'happy']['Text'].tolist()"
   ]
  },
  {
   "cell_type": "code",
   "execution_count": 17,
   "metadata": {},
   "outputs": [],
   "source": [
    "# happy document\n",
    "happy_docx = ' '.join(happy_list)"
   ]
  },
  {
   "cell_type": "code",
   "execution_count": 18,
   "metadata": {
    "scrolled": true
   },
   "outputs": [
    {
     "data": {
      "text/plain": [
       "'बढ़िया डील मिला हमे  होटल तो लाजवाब है  एक नंबर ऑफर मिला है बेहतरीन ऐप है भाई तुम्हारी सर्विस से हम खुश है शुक्रिया तुम्हारा  यू आर द बेस्ट वाह भाई क्या बढ़िया डील मिली है  अच्छे बुकिंग के लिए धन्यवाद  थैंकयू सारथी आय लव यू   यह होटल काफी अच्छा था  धन्यवाद भाई  क्या बात है यार बढ़िया होटल मिल गया  नाइस  बढ़िया काम किया भाई  मदद करने के लिए शुक्रिया  तुम बहुत अच्छे हो  क्या कमल कर दिया तूने  अरे वाह इतनी जल्दी हो भी गया  अच्छा काम किया भाई  गुड जॉब  थैंक्स सारथि यह तो बहुत अच्छा ऐप है आज का मौसम बहुत बढ़िया है यार  कितना खूबसूरत होटल था  मस्त होटल था यार  लाजवाब जगह था वह  ये काम बहुत अच्छा किया तूने  गज़ब का होटल था  फ्लाइट में बहुत मज़ा आया ट्रैन की यात्रा  काफी अच्छी थी  भाई तूने मेरी बहुत हेल्प की है  एक नंबर काम किया है भाई तूने कैब ड्राइवर बहुत हेल्पिंग था  तुम तो लाजवाब हो  दिल खुश कर दिया तूने  इतना सुन्दर होटल है  मन प्रसन्न हो गया मेरा  मै खुश हुआ  हेल्प करने के लिए धन्यवाद  वैरी गुड  थैंक्यू वैरी मच  धन्यवाद मेरे भाई  धन्यवाद सारथि  तुम बहुत स्मार्ट हो  तुम बढ़िया हो यार  काफी मदद कर दी तूने बहुत ही बढ़िया  बेहतरीन  ये होटल अच्छा है  बहुत अच्छा कैब ड्राइवर था  यू अरे सो स्वीट  तुम तोह काफी इंटेलीजेंट हो  क्या सही एप है ये  अरे बढ़िया  ग्रेट एप  आय एम इम्प्रेस्सड   बहुत ही उन्दा  थैंक्यू सो मच  दिल जीत लिया तूने  तुमने तो कमाल कर दिया  सारथी की जय हो मेहरबानी आपकी तुम बढ़िया हो यार  बड़े मज़ेदार हो तुम  क्या जोरदार काम किया है भाई सुन्दर एप है  तुम्हारे काम की दाद देता हूँ माशा अल्लाह  तुमने मन प्रफुल्लित कर दिया  यू आर गुड  लाजवाब  गुड सर्विस  ये तो अच्छा है  शाबाश  बहुत मज़ा आया  बेस्ट हो तुम   मदद के लिए धन्यवाद  ऐसी सर्विस की उम्मीद थी आपसे  आपसे बात करके अच्छा लगा  आश्चर्यचकित कर दिया तुमने  तू तो बहुत समझदार है  मेरी यात्रा कुशल मंगल थी धन्यवाद   तुम्हारा कोई जवाब नहीं सारथी तुम बड़े मज़ेदार हो  माशा अल्लाह क्या काम किया है तुमने  तुम्हारे काम का कोई जवाब नहीं सारथी शाबाश हंसते हंसते मर न जाऊं मै थैंक्स  वाकई तारीफ के काबिल है  अरे वाह  क्या बात है  सही है  मजा आ गया यार  कितना सही अप्प है यार  वाह यार सही डिस्काउंट चल रहा  ये मज़ेदार है  मै तो बहुत खुश हूँ ये एप्प यूस करके  इन चैनल्स की क्लैरिटी सच में बहुत अच्छी है  आज तो काफी अच्छा ऑफर चल रहे  इतना अच्छा सर्विस दिया तो ख़ुशी से मै और पैसे दे दूँ  यार ये बहुत सही चीज़ है  यार ये तो मख्खन जैसा काम करता है  बहुत खूब  बहुत बढ़िया हुआ कि पैसे समय से पहले आ गए  मुझे तो ये एप्प बहुत अच्छा लगता है  मज़ा आ गया भाई  पैसे ख़तम भी हो गए पर चैनल्स अभी भी चल रहे  इतने काम पैसे में इतना चैनल्स  मैं बिलकुल संतुष्ट हूँ इनके सर्विस से  ऐसे ही सर्विस हमेशा रहे तो क्या बात है  अरे वाह क्या सर्विस है  वाह लाजवाब  शुक्रिया रिचार्ज करने के लिए दोस्त  पैसे डलवाने के लिए शुक्रिया यारा  पैसे डलवाने के लिए धन्यवाद मेरे यार  धन्यवाद मैं खुश हुआ  बहुत अच्छा भाई  रिचार्ज करने के लिए धन्यवाद मेरे हीरो  खुश हुआ मैं  अरे वाह क्या बात है  अच्छा हुआ अकाउंट बंद नहीं हुआ  तुम्हरा कोटि कोटि धन्यवाद मेरा अकाउंट रजिस्टर करने के लिए  तुम्हरा कोटि कोटि धन्यवाद मेरा मोबाइल नंबर रजिस्टर करने के लिए  वाओ    यार क्या चीज़ बताई है तुमने यीपी     मुझे सस्ती फ्लाइट मिल  वाह    क्या मौसम है  हुर्रे    क्या डील मिली है  वाओ     वूहू   ओए होए     आ हा    क्या बात है  वाह    सस्ती चीज बता दी यार यीपी    मै जल्दी घर आ गया  वूहू   मज़ा आ गया  हुर्रे    एक नंबर कूपन मिल गया  आये होये    आज तो तूने दिल जीत लिया भाई  मेरा ट्रैन टिकट बुक हो गया वाओ     वाओ बैंगलोर की ट्रेन मिल गई वाओ   मेरी ट्रेन जल्दी आ यीपी    मेरा फ्लाइट आखिरकार बुक हो गया  बैंगलोर की ट्रेन मिल गई यीपी  ऑटो मिल गया  यीपी  अच्छी कैब मिल गयी  वाह   मस्त बारिश हुई आज वाह  मुझे फ्लाइट का टिकट मिल गया वाह  ओए होए   मेरा ट्रैन टिकट बुक हो गया  ओए होए सारथी तुमने बहुत अच्छा काम किया मेरा फ्लाइट आखिरकार बुक हो गया हुर्रे    हुर्रे मस्त कैब मिल गयी  आ हा  सारथी तुम बेस्ट हो  आ हा सारथी तुम लाजवाब हो '"
      ]
     },
     "execution_count": 18,
     "metadata": {},
     "output_type": "execute_result"
    }
   ],
   "source": [
    "happy_docx"
   ]
  },
  {
   "cell_type": "code",
   "execution_count": 19,
   "metadata": {},
   "outputs": [],
   "source": [
    "# extract keywords\n",
    "keyword_happy = extract_keywords(happy_docx)"
   ]
  },
  {
   "cell_type": "code",
   "execution_count": 20,
   "metadata": {
    "scrolled": true
   },
   "outputs": [
    {
     "name": "stdout",
     "output_type": "stream",
     "text": [
      "Keywords in our dataset for happy: \n"
     ]
    },
    {
     "data": {
      "text/plain": [
       "{'है': 34,\n",
       " 'बहुत': 21,\n",
       " 'हो': 19,\n",
       " 'क्या': 14,\n",
       " 'अच्छा': 14,\n",
       " 'गया': 14,\n",
       " 'तो': 13,\n",
       " 'यार': 13,\n",
       " 'भाई': 12,\n",
       " 'वाह': 12,\n",
       " 'धन्यवाद': 12,\n",
       " 'के': 11,\n",
       " 'काम': 11,\n",
       " 'तुम': 11,\n",
       " 'लिए': 10,\n",
       " 'मिल': 9,\n",
       " 'ये': 9,\n",
       " 'आ': 9,\n",
       " 'बढ़िया': 8,\n",
       " 'होटल': 8,\n",
       " 'तूने': 8,\n",
       " 'की': 8,\n",
       " 'सर्विस': 7,\n",
       " 'सारथी': 7,\n",
       " 'था': 7,\n",
       " 'किया': 7,\n",
       " 'मेरा': 7,\n",
       " 'लाजवाब': 6,\n",
       " 'खुश': 6,\n",
       " 'बात': 6,\n",
       " 'करने': 6,\n",
       " 'कर': 6,\n",
       " 'दिया': 6,\n",
       " 'अरे': 6,\n",
       " 'हुआ': 6,\n",
       " 'तुमने': 6,\n",
       " 'पैसे': 6,\n",
       " 'काफी': 5,\n",
       " 'फ्लाइट': 5,\n",
       " 'मै': 5,\n",
       " 'सही': 5,\n",
       " 'वाओ': 5,\n",
       " 'यीपी': 5,\n",
       " 'नंबर': 4,\n",
       " 'से': 4,\n",
       " 'शुक्रिया': 4,\n",
       " 'यू': 4,\n",
       " 'गुड': 4,\n",
       " 'आज': 4,\n",
       " 'का': 4}"
      ]
     },
     "execution_count": 20,
     "metadata": {},
     "output_type": "execute_result"
    }
   ],
   "source": [
    "print(\"Keywords in our dataset for happy: \")\n",
    "keyword_happy"
   ]
  },
  {
   "cell_type": "code",
   "execution_count": 21,
   "metadata": {},
   "outputs": [],
   "source": [
    "# machine learning model \n",
    "from sklearn.linear_model import LogisticRegression\n",
    "from sklearn.naive_bayes import MultinomialNB\n",
    "\n",
    "from sklearn.feature_extraction.text import CountVectorizer, TfidfVectorizer\n",
    "\n",
    "from sklearn.metrics import accuracy_score, confusion_matrix, classification_report, plot_confusion_matrix"
   ]
  },
  {
   "cell_type": "code",
   "execution_count": 22,
   "metadata": {},
   "outputs": [],
   "source": [
    "from sklearn.model_selection import train_test_split"
   ]
  },
  {
   "cell_type": "code",
   "execution_count": 23,
   "metadata": {},
   "outputs": [],
   "source": [
    "Xfeatures = df['Text']\n",
    "ylabels = df['Emotion']"
   ]
  },
  {
   "cell_type": "code",
   "execution_count": 24,
   "metadata": {},
   "outputs": [],
   "source": [
    "cv = CountVectorizer()\n",
    "X = cv.fit_transform(Xfeatures)"
   ]
  },
  {
   "cell_type": "code",
   "execution_count": 25,
   "metadata": {
    "scrolled": true
   },
   "outputs": [
    {
     "data": {
      "text/plain": [
       "['10',\n",
       " 'अक',\n",
       " 'अग',\n",
       " 'अगल',\n",
       " 'अच',\n",
       " 'अज',\n",
       " 'अन',\n",
       " 'अनस',\n",
       " 'अप',\n",
       " 'अपन',\n",
       " 'अब',\n",
       " 'अभ',\n",
       " 'अर',\n",
       " 'अल',\n",
       " 'अव',\n",
       " 'अहमद',\n",
       " 'आई',\n",
       " 'आए',\n",
       " 'आएग',\n",
       " 'आओ',\n",
       " 'आख',\n",
       " 'आखर',\n",
       " 'आग',\n",
       " 'आज',\n",
       " 'आजक',\n",
       " 'आत',\n",
       " 'आन',\n",
       " 'आप',\n",
       " 'आपक',\n",
       " 'आपस',\n",
       " 'आय',\n",
       " 'आर',\n",
       " 'आश',\n",
       " 'आस',\n",
       " 'इट',\n",
       " 'इड',\n",
       " 'इत',\n",
       " 'इतन',\n",
       " 'इधर',\n",
       " 'इन',\n",
       " 'इनक',\n",
       " 'इम',\n",
       " 'इल',\n",
       " 'इवर',\n",
       " 'इस',\n",
       " 'इसक',\n",
       " 'उत',\n",
       " 'उतन',\n",
       " 'उन',\n",
       " 'उबर',\n",
       " 'उम',\n",
       " 'उल',\n",
       " 'उस',\n",
       " 'उसक',\n",
       " 'एक',\n",
       " 'एकदम',\n",
       " 'एग',\n",
       " 'एप',\n",
       " 'एम',\n",
       " 'ऐड',\n",
       " 'ऐप',\n",
       " 'ऐस',\n",
       " 'ऑट',\n",
       " 'ऑन',\n",
       " 'ऑफ',\n",
       " 'ऑफर',\n",
       " 'ऑफ़',\n",
       " 'ओए',\n",
       " 'ओग',\n",
       " 'ओय',\n",
       " 'और',\n",
       " 'कई',\n",
       " 'कट',\n",
       " 'कत',\n",
       " 'कन',\n",
       " 'कब',\n",
       " 'कभ',\n",
       " 'कम',\n",
       " 'कमल',\n",
       " 'कय',\n",
       " 'कर',\n",
       " 'करक',\n",
       " 'करत',\n",
       " 'करद',\n",
       " 'करन',\n",
       " 'करव',\n",
       " 'कल',\n",
       " 'कस',\n",
       " 'कह',\n",
       " 'खत',\n",
       " 'खद',\n",
       " 'खन',\n",
       " 'खर',\n",
       " 'गई',\n",
       " 'गए',\n",
       " 'गध',\n",
       " 'गन',\n",
       " 'गप',\n",
       " 'गय',\n",
       " 'गर',\n",
       " 'गल',\n",
       " 'गलत',\n",
       " 'गलप',\n",
       " 'गव',\n",
       " 'गस',\n",
       " 'गज़ब',\n",
       " 'घट',\n",
       " 'घर',\n",
       " 'चर',\n",
       " 'चल',\n",
       " 'चलत',\n",
       " 'जगह',\n",
       " 'जनक',\n",
       " 'जय',\n",
       " 'जर',\n",
       " 'जल',\n",
       " 'जव',\n",
       " 'झस',\n",
       " 'टट',\n",
       " 'टन',\n",
       " 'टमर',\n",
       " 'टर',\n",
       " 'टरफ',\n",
       " 'टरफ़',\n",
       " 'टल',\n",
       " 'टस',\n",
       " 'ठण',\n",
       " 'डलव',\n",
       " 'तक',\n",
       " 'तज',\n",
       " 'तन',\n",
       " 'तबस',\n",
       " 'तम',\n",
       " 'थक',\n",
       " 'दग',\n",
       " 'दम',\n",
       " 'दर',\n",
       " 'दरच',\n",
       " 'धन',\n",
       " 'नट',\n",
       " 'नल',\n",
       " 'नह',\n",
       " 'पत',\n",
       " 'पन',\n",
       " 'पम',\n",
       " 'पर',\n",
       " 'परफ',\n",
       " 'परस',\n",
       " 'पल',\n",
       " 'पस',\n",
       " 'पह',\n",
       " 'पहल',\n",
       " 'पड़',\n",
       " 'फट',\n",
       " 'फर',\n",
       " 'फस',\n",
       " 'फसत',\n",
       " 'फसन',\n",
       " 'बई',\n",
       " 'बक',\n",
       " 'बकव',\n",
       " 'बच',\n",
       " 'बढ',\n",
       " 'बत',\n",
       " 'बतम',\n",
       " 'बद',\n",
       " 'बदतम',\n",
       " 'बन',\n",
       " 'बर',\n",
       " 'बल',\n",
       " 'बस',\n",
       " 'बह',\n",
       " 'बहनच',\n",
       " 'बड़',\n",
       " 'बढ़',\n",
       " 'भरव',\n",
       " 'भव',\n",
       " 'मई',\n",
       " 'मक',\n",
       " 'मख',\n",
       " 'मच',\n",
       " 'मज',\n",
       " 'मत',\n",
       " 'मदद',\n",
       " 'मन',\n",
       " 'मर',\n",
       " 'मस',\n",
       " 'मह',\n",
       " 'मज़',\n",
       " 'यक',\n",
       " 'यचक',\n",
       " 'यट',\n",
       " 'यत',\n",
       " 'यर',\n",
       " 'यव',\n",
       " 'यह',\n",
       " 'रक',\n",
       " 'रख',\n",
       " 'रज',\n",
       " 'रण',\n",
       " 'रत',\n",
       " 'रथ',\n",
       " 'रद',\n",
       " 'रफ',\n",
       " 'रस',\n",
       " 'रसन',\n",
       " 'रह',\n",
       " 'लक',\n",
       " 'लग',\n",
       " 'लगत',\n",
       " 'लगन',\n",
       " 'लच',\n",
       " 'लत',\n",
       " 'लन',\n",
       " 'लम',\n",
       " 'लव',\n",
       " 'लह',\n",
       " 'वक',\n",
       " 'वजह',\n",
       " 'वर',\n",
       " 'वह',\n",
       " 'शन',\n",
       " 'शल',\n",
       " 'सकत',\n",
       " 'सच',\n",
       " 'सड',\n",
       " 'सत',\n",
       " 'सप',\n",
       " 'सबस',\n",
       " 'सम',\n",
       " 'समझ',\n",
       " 'समझत',\n",
       " 'समझद',\n",
       " 'समय',\n",
       " 'सर',\n",
       " 'सव',\n",
       " 'सस',\n",
       " 'सह',\n",
       " 'सड़',\n",
       " 'हतर',\n",
       " 'हन',\n",
       " 'हम',\n",
       " 'हमर',\n",
       " 'हर',\n",
       " 'हरब',\n",
       " 'हल',\n",
       " 'ख़त',\n",
       " 'ख़तम',\n",
       " 'ख़र',\n",
       " 'ज़र',\n",
       " 'ज़ल',\n",
       " 'फ़क']"
      ]
     },
     "execution_count": 25,
     "metadata": {},
     "output_type": "execute_result"
    }
   ],
   "source": [
    "cv.get_feature_names()"
   ]
  },
  {
   "cell_type": "code",
   "execution_count": 26,
   "metadata": {},
   "outputs": [],
   "source": [
    "X_train,X_test,y_train,y_test = train_test_split(X,ylabels,test_size=0.3, random_state=42)"
   ]
  },
  {
   "cell_type": "code",
   "execution_count": 27,
   "metadata": {},
   "outputs": [
    {
     "data": {
      "text/plain": [
       "MultinomialNB()"
      ]
     },
     "execution_count": 27,
     "metadata": {},
     "output_type": "execute_result"
    }
   ],
   "source": [
    "#model\n",
    "nv_model = MultinomialNB()\n",
    "nv_model.fit(X_train,y_train)"
   ]
  },
  {
   "cell_type": "code",
   "execution_count": 28,
   "metadata": {},
   "outputs": [
    {
     "data": {
      "text/plain": [
       "0.5584415584415584"
      ]
     },
     "execution_count": 28,
     "metadata": {},
     "output_type": "execute_result"
    }
   ],
   "source": [
    "nv_model.score(X_test,y_test)"
   ]
  },
  {
   "cell_type": "code",
   "execution_count": 29,
   "metadata": {},
   "outputs": [],
   "source": [
    "y_pred_for_nv = nv_model.predict(X_test)"
   ]
  },
  {
   "cell_type": "code",
   "execution_count": 30,
   "metadata": {
    "scrolled": true
   },
   "outputs": [
    {
     "data": {
      "text/plain": [
       "array(['neutral', 'happy', 'sad', 'happy', 'neutral', 'happy', 'happy',\n",
       "       'happy', 'neutral', 'happy', 'neutral', 'neutral', 'neutral',\n",
       "       'angry', 'angry', 'neutral', 'happy', 'happy', 'happy', 'happy',\n",
       "       'neutral', 'sad', 'neutral', 'sad', 'neutral', 'sad', 'angry',\n",
       "       'happy', 'neutral', 'angry', 'happy', 'neutral', 'sad', 'neutral',\n",
       "       'angry', 'neutral', 'happy', 'neutral', 'neutral', 'happy', 'sad',\n",
       "       'happy', 'sad', 'happy', 'angry', 'angry', 'happy', 'sad',\n",
       "       'neutral', 'angry', 'neutral', 'sad', 'sad', 'angry', 'angry',\n",
       "       'sad', 'angry', 'happy', 'neutral', 'neutral', 'happy', 'happy',\n",
       "       'happy', 'happy', 'sad', 'angry', 'neutral', 'happy', 'happy',\n",
       "       'angry', 'angry', 'neutral', 'angry', 'angry', 'happy', 'angry',\n",
       "       'sad', 'happy', 'neutral', 'angry', 'happy', 'happy', 'angry',\n",
       "       'happy', 'angry', 'neutral', 'angry', 'neutral', 'happy', 'happy',\n",
       "       'angry', 'neutral', 'happy', 'sad', 'happy', 'happy', 'angry',\n",
       "       'neutral', 'neutral', 'happy', 'happy', 'angry', 'happy',\n",
       "       'neutral', 'neutral', 'happy', 'happy', 'sad', 'happy', 'angry',\n",
       "       'neutral', 'angry', 'neutral', 'neutral', 'happy', 'neutral',\n",
       "       'happy', 'happy', 'angry', 'happy', 'sad', 'happy', 'neutral',\n",
       "       'happy', 'neutral', 'angry', 'sad', 'neutral', 'angry', 'sad',\n",
       "       'sad', 'neutral', 'neutral', 'angry', 'happy', 'sad', 'happy',\n",
       "       'happy', 'angry', 'neutral', 'angry', 'neutral', 'angry',\n",
       "       'neutral', 'neutral', 'happy', 'sad', 'sad', 'neutral', 'happy',\n",
       "       'neutral', 'happy', 'happy', 'happy'], dtype='<U7')"
      ]
     },
     "execution_count": 30,
     "metadata": {},
     "output_type": "execute_result"
    }
   ],
   "source": [
    "y_pred_for_nv"
   ]
  },
  {
   "cell_type": "code",
   "execution_count": 31,
   "metadata": {},
   "outputs": [],
   "source": [
    "sample_text = [\"मुझे यह पसंद नहीं है\"]"
   ]
  },
  {
   "cell_type": "code",
   "execution_count": 32,
   "metadata": {},
   "outputs": [],
   "source": [
    "vect = cv.transform(sample_text).toarray()"
   ]
  },
  {
   "cell_type": "code",
   "execution_count": 33,
   "metadata": {},
   "outputs": [
    {
     "data": {
      "text/plain": [
       "array(['sad'], dtype='<U7')"
      ]
     },
     "execution_count": 33,
     "metadata": {},
     "output_type": "execute_result"
    }
   ],
   "source": [
    "nv_model.predict(vect)"
   ]
  },
  {
   "cell_type": "code",
   "execution_count": 34,
   "metadata": {},
   "outputs": [],
   "source": [
    "def predict_emotion(sample_text, model):\n",
    "    myvect = cv.transform(sample_text).toarray()\n",
    "    prediction = model.predict(myvect)\n",
    "    pred_proba = model.predict_proba(myvect)\n",
    "    pred_precentage_for_all = dict(zip(model.classes_,pred_proba[0]))\n",
    "    print(prediction[0])\n",
    "    return pred_precentage_for_all"
   ]
  },
  {
   "cell_type": "code",
   "execution_count": 35,
   "metadata": {},
   "outputs": [
    {
     "name": "stdout",
     "output_type": "stream",
     "text": [
      "sad\n"
     ]
    },
    {
     "data": {
      "text/plain": [
       "{'angry': 0.05645218019998388,\n",
       " 'happy': 0.023707448356462407,\n",
       " 'neutral': 0.12926761792070154,\n",
       " 'sad': 0.7905727535228526}"
      ]
     },
     "execution_count": 35,
     "metadata": {},
     "output_type": "execute_result"
    }
   ],
   "source": [
    "predict_emotion(sample_text,nv_model)"
   ]
  },
  {
   "cell_type": "code",
   "execution_count": 36,
   "metadata": {},
   "outputs": [
    {
     "name": "stdout",
     "output_type": "stream",
     "text": [
      "neutral\n"
     ]
    },
    {
     "data": {
      "text/plain": [
       "{'angry': 0.1264259249980296,\n",
       " 'happy': 0.2606401449676069,\n",
       " 'neutral': 0.5413983570600125,\n",
       " 'sad': 0.07153557297435183}"
      ]
     },
     "execution_count": 36,
     "metadata": {},
     "output_type": "execute_result"
    }
   ],
   "source": [
    "predict_emotion([\"मैं आज बाहर जा रहा हूँ\"], nv_model)"
   ]
  },
  {
   "cell_type": "code",
   "execution_count": 37,
   "metadata": {},
   "outputs": [
    {
     "data": {
      "text/html": [
       "<div>\n",
       "<style scoped>\n",
       "    .dataframe tbody tr th:only-of-type {\n",
       "        vertical-align: middle;\n",
       "    }\n",
       "\n",
       "    .dataframe tbody tr th {\n",
       "        vertical-align: top;\n",
       "    }\n",
       "\n",
       "    .dataframe thead th {\n",
       "        text-align: right;\n",
       "    }\n",
       "</style>\n",
       "<table border=\"1\" class=\"dataframe\">\n",
       "  <thead>\n",
       "    <tr style=\"text-align: right;\">\n",
       "      <th></th>\n",
       "      <th>precision</th>\n",
       "      <th>recall</th>\n",
       "      <th>f1-score</th>\n",
       "      <th>support</th>\n",
       "    </tr>\n",
       "  </thead>\n",
       "  <tbody>\n",
       "    <tr>\n",
       "      <th>angry</th>\n",
       "      <td>0.666667</td>\n",
       "      <td>0.500000</td>\n",
       "      <td>0.571429</td>\n",
       "      <td>44.000000</td>\n",
       "    </tr>\n",
       "    <tr>\n",
       "      <th>happy</th>\n",
       "      <td>0.518519</td>\n",
       "      <td>0.636364</td>\n",
       "      <td>0.571429</td>\n",
       "      <td>44.000000</td>\n",
       "    </tr>\n",
       "    <tr>\n",
       "      <th>neutral</th>\n",
       "      <td>0.555556</td>\n",
       "      <td>0.694444</td>\n",
       "      <td>0.617284</td>\n",
       "      <td>36.000000</td>\n",
       "    </tr>\n",
       "    <tr>\n",
       "      <th>sad</th>\n",
       "      <td>0.500000</td>\n",
       "      <td>0.366667</td>\n",
       "      <td>0.423077</td>\n",
       "      <td>30.000000</td>\n",
       "    </tr>\n",
       "    <tr>\n",
       "      <th>accuracy</th>\n",
       "      <td>0.558442</td>\n",
       "      <td>0.558442</td>\n",
       "      <td>0.558442</td>\n",
       "      <td>0.558442</td>\n",
       "    </tr>\n",
       "    <tr>\n",
       "      <th>macro avg</th>\n",
       "      <td>0.560185</td>\n",
       "      <td>0.549369</td>\n",
       "      <td>0.545805</td>\n",
       "      <td>154.000000</td>\n",
       "    </tr>\n",
       "    <tr>\n",
       "      <th>weighted avg</th>\n",
       "      <td>0.565897</td>\n",
       "      <td>0.558442</td>\n",
       "      <td>0.553248</td>\n",
       "      <td>154.000000</td>\n",
       "    </tr>\n",
       "  </tbody>\n",
       "</table>\n",
       "</div>"
      ],
      "text/plain": [
       "              precision    recall  f1-score     support\n",
       "angry          0.666667  0.500000  0.571429   44.000000\n",
       "happy          0.518519  0.636364  0.571429   44.000000\n",
       "neutral        0.555556  0.694444  0.617284   36.000000\n",
       "sad            0.500000  0.366667  0.423077   30.000000\n",
       "accuracy       0.558442  0.558442  0.558442    0.558442\n",
       "macro avg      0.560185  0.549369  0.545805  154.000000\n",
       "weighted avg   0.565897  0.558442  0.553248  154.000000"
      ]
     },
     "execution_count": 37,
     "metadata": {},
     "output_type": "execute_result"
    }
   ],
   "source": [
    "#model evaluation\n",
    "clf = classification_report(y_test,y_pred_for_nv,output_dict=True)\n",
    "df = pd.DataFrame(clf).transpose()\n",
    "df"
   ]
  },
  {
   "cell_type": "code",
   "execution_count": 38,
   "metadata": {},
   "outputs": [
    {
     "data": {
      "text/plain": [
       "array([[22, 11,  7,  4],\n",
       "       [ 1, 28,  8,  7],\n",
       "       [ 4,  7, 25,  0],\n",
       "       [ 6,  8,  5, 11]], dtype=int64)"
      ]
     },
     "execution_count": 38,
     "metadata": {},
     "output_type": "execute_result"
    }
   ],
   "source": [
    "confusion_matrix(y_test,y_pred_for_nv)"
   ]
  },
  {
   "cell_type": "code",
   "execution_count": 39,
   "metadata": {},
   "outputs": [
    {
     "data": {
      "text/plain": [
       "<sklearn.metrics._plot.confusion_matrix.ConfusionMatrixDisplay at 0x2bcf1009070>"
      ]
     },
     "execution_count": 39,
     "metadata": {},
     "output_type": "execute_result"
    },
    {
     "data": {
      "image/png": "[encoded data removed]",
      "text/plain": [
       "<Figure size 432x288 with 2 Axes>"
      ]
     },
     "metadata": {
      "needs_background": "light"
     },
     "output_type": "display_data"
    }
   ],
   "source": [
    "plot_confusion_matrix(nv_model,X_test,y_test)"
   ]
  },
  {
   "cell_type": "code",
   "execution_count": 40,
   "metadata": {},
   "outputs": [],
   "source": [
    "# logistic regression"
   ]
  },
  {
   "cell_type": "code",
   "execution_count": 41,
   "metadata": {},
   "outputs": [
    {
     "data": {
      "text/plain": [
       "LogisticRegression()"
      ]
     },
     "execution_count": 41,
     "metadata": {},
     "output_type": "execute_result"
    }
   ],
   "source": [
    "lr_model = LogisticRegression()\n",
    "lr_model.fit(X_train,y_train)"
   ]
  },
  {
   "cell_type": "code",
   "execution_count": 42,
   "metadata": {},
   "outputs": [
    {
     "data": {
      "text/plain": [
       "0.564935064935065"
      ]
     },
     "execution_count": 42,
     "metadata": {},
     "output_type": "execute_result"
    }
   ],
   "source": [
    "lr_model.score(X_test,y_test)"
   ]
  },
  {
   "cell_type": "code",
   "execution_count": 43,
   "metadata": {},
   "outputs": [
    {
     "name": "stdout",
     "output_type": "stream",
     "text": [
      "sad\n"
     ]
    },
    {
     "data": {
      "text/plain": [
       "{'angry': 0.08413841686715583,\n",
       " 'happy': 0.01897372090505895,\n",
       " 'neutral': 0.10455901074389509,\n",
       " 'sad': 0.7923288514838902}"
      ]
     },
     "execution_count": 43,
     "metadata": {},
     "output_type": "execute_result"
    }
   ],
   "source": [
    "predict_emotion(sample_text,lr_model)"
   ]
  },
  {
   "cell_type": "code",
   "execution_count": 44,
   "metadata": {},
   "outputs": [
    {
     "data": {
      "text/plain": [
       "<matplotlib.axes._subplots.AxesSubplot at 0x2bcf3731580>"
      ]
     },
     "execution_count": 44,
     "metadata": {},
     "output_type": "execute_result"
    },
    {
     "data": {
      "image/png": "[encoded data removed]",
      "text/plain": [
       "<Figure size 432x288 with 2 Axes>"
      ]
     },
     "metadata": {
      "needs_background": "light"
     },
     "output_type": "display_data"
    }
   ],
   "source": [
    "sns.heatmap(pd.DataFrame(clf).iloc[:-1, :].T, annot=True)"
   ]
  },
  {
   "cell_type": "code",
   "execution_count": 45,
   "metadata": {},
   "outputs": [
    {
     "data": {
      "text/plain": [
       "0.564935064935065"
      ]
     },
     "execution_count": 45,
     "metadata": {},
     "output_type": "execute_result"
    }
   ],
   "source": [
    "lr_model.score(X_test,y_test)"
   ]
  },
  {
   "cell_type": "code",
   "execution_count": 46,
   "metadata": {},
   "outputs": [],
   "source": [
    "y_pred_for_lr = lr_model.predict(X_test)"
   ]
  },
  {
   "cell_type": "code",
   "execution_count": 47,
   "metadata": {},
   "outputs": [
    {
     "data": {
      "text/html": [
       "<div>\n",
       "<style scoped>\n",
       "    .dataframe tbody tr th:only-of-type {\n",
       "        vertical-align: middle;\n",
       "    }\n",
       "\n",
       "    .dataframe tbody tr th {\n",
       "        vertical-align: top;\n",
       "    }\n",
       "\n",
       "    .dataframe thead th {\n",
       "        text-align: right;\n",
       "    }\n",
       "</style>\n",
       "<table border=\"1\" class=\"dataframe\">\n",
       "  <thead>\n",
       "    <tr style=\"text-align: right;\">\n",
       "      <th></th>\n",
       "      <th>precision</th>\n",
       "      <th>recall</th>\n",
       "      <th>f1-score</th>\n",
       "      <th>support</th>\n",
       "    </tr>\n",
       "  </thead>\n",
       "  <tbody>\n",
       "    <tr>\n",
       "      <th>angry</th>\n",
       "      <td>0.636364</td>\n",
       "      <td>0.477273</td>\n",
       "      <td>0.545455</td>\n",
       "      <td>44.000000</td>\n",
       "    </tr>\n",
       "    <tr>\n",
       "      <th>happy</th>\n",
       "      <td>0.548387</td>\n",
       "      <td>0.772727</td>\n",
       "      <td>0.641509</td>\n",
       "      <td>44.000000</td>\n",
       "    </tr>\n",
       "    <tr>\n",
       "      <th>neutral</th>\n",
       "      <td>0.564103</td>\n",
       "      <td>0.611111</td>\n",
       "      <td>0.586667</td>\n",
       "      <td>36.000000</td>\n",
       "    </tr>\n",
       "    <tr>\n",
       "      <th>sad</th>\n",
       "      <td>0.500000</td>\n",
       "      <td>0.333333</td>\n",
       "      <td>0.400000</td>\n",
       "      <td>30.000000</td>\n",
       "    </tr>\n",
       "    <tr>\n",
       "      <th>accuracy</th>\n",
       "      <td>0.564935</td>\n",
       "      <td>0.564935</td>\n",
       "      <td>0.564935</td>\n",
       "      <td>0.564935</td>\n",
       "    </tr>\n",
       "    <tr>\n",
       "      <th>macro avg</th>\n",
       "      <td>0.562213</td>\n",
       "      <td>0.548611</td>\n",
       "      <td>0.543408</td>\n",
       "      <td>154.000000</td>\n",
       "    </tr>\n",
       "    <tr>\n",
       "      <th>weighted avg</th>\n",
       "      <td>0.567771</td>\n",
       "      <td>0.564935</td>\n",
       "      <td>0.554198</td>\n",
       "      <td>154.000000</td>\n",
       "    </tr>\n",
       "  </tbody>\n",
       "</table>\n",
       "</div>"
      ],
      "text/plain": [
       "              precision    recall  f1-score     support\n",
       "angry          0.636364  0.477273  0.545455   44.000000\n",
       "happy          0.548387  0.772727  0.641509   44.000000\n",
       "neutral        0.564103  0.611111  0.586667   36.000000\n",
       "sad            0.500000  0.333333  0.400000   30.000000\n",
       "accuracy       0.564935  0.564935  0.564935    0.564935\n",
       "macro avg      0.562213  0.548611  0.543408  154.000000\n",
       "weighted avg   0.567771  0.564935  0.554198  154.000000"
      ]
     },
     "execution_count": 47,
     "metadata": {},
     "output_type": "execute_result"
    }
   ],
   "source": [
    "clf2 = classification_report(y_test,y_pred_for_lr, output_dict=True)\n",
    "df = pd.DataFrame(clf2).transpose()\n",
    "df"
   ]
  },
  {
   "cell_type": "code",
   "execution_count": 48,
   "metadata": {},
   "outputs": [
    {
     "name": "stdout",
     "output_type": "stream",
     "text": [
      "neutral\n"
     ]
    },
    {
     "data": {
      "text/plain": [
       "{'angry': 0.1565358348595842,\n",
       " 'happy': 0.14052256643781239,\n",
       " 'neutral': 0.6516138105404823,\n",
       " 'sad': 0.05132778816212107}"
      ]
     },
     "execution_count": 48,
     "metadata": {},
     "output_type": "execute_result"
    }
   ],
   "source": [
    "predict_emotion([\"मैं आज बाहर जा रहा हूँ\"], lr_model)"
   ]
  },
  {
   "cell_type": "code",
   "execution_count": 49,
   "metadata": {},
   "outputs": [
    {
     "name": "stdout",
     "output_type": "stream",
     "text": [
      "sad\n"
     ]
    },
    {
     "data": {
      "text/plain": [
       "{'angry': 0.08413841686715583,\n",
       " 'happy': 0.01897372090505895,\n",
       " 'neutral': 0.10455901074389509,\n",
       " 'sad': 0.7923288514838902}"
      ]
     },
     "execution_count": 49,
     "metadata": {},
     "output_type": "execute_result"
    }
   ],
   "source": [
    "predict_emotion([\"मुझे यह पसंद नहीं है\"], lr_model)"
   ]
  }
 ],
 "metadata": {
  "kernelspec": {
   "display_name": "Python 3",
   "language": "python",
   "name": "python3"
  },
  "language_info": {
   "codemirror_mode": {
    "name": "ipython",
    "version": 3
   },
   "file_extension": ".py",
   "mimetype": "text/x-python",
   "name": "python",
   "nbconvert_exporter": "python",
   "pygments_lexer": "ipython3",
   "version": "3.8.3"
  }
 },
 "nbformat": 4,
 "nbformat_minor": 4
}
